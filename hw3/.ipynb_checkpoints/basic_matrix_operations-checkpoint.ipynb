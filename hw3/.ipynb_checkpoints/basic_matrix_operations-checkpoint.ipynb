{
 "cells": [
  {
   "cell_type": "code",
   "execution_count": 1,
   "id": "9c32e02c",
   "metadata": {},
   "outputs": [],
   "source": [
    "import numpy as np"
   ]
  },
  {
   "cell_type": "code",
   "execution_count": 22,
   "id": "e058aea6",
   "metadata": {},
   "outputs": [],
   "source": [
    "def mult(a, b):\n",
    "    \"\"\"\n",
    "    Performs matrix multiplication on matrices a and b\n",
    "    \"\"\"\n",
    "    if not isinstance(a, np.ndarray):\n",
    "        a = np.asarray(a)\n",
    "    if not isinstance (b, np.ndarray):\n",
    "        b = np.asarray(b)\n",
    "        \n",
    "    if a.ndim == 1:\n",
    "        a = a[np.newaxis, :]\n",
    "    if b.ndim == 1:\n",
    "        b = b[:, np.newaxis]\n",
    "    \n",
    "    if a.shape[1] != b.shape[0]:\n",
    "        raise Exception(f\"Dimension mismatch. Got matrices \" + \\\n",
    "                        f\"of shapes {a.shape} and {b.shape}\")\n",
    "    \n",
    "    new_shape = (a.shape[0], b.shape[1])\n",
    "    result = np.empty(new_shape)\n",
    "    for i in range(result.shape[0]):\n",
    "        for j in range(result.shape[1]):\n",
    "            result[i, j] = np.sum(a[i, :] * b[:, j])\n",
    "    \n",
    "    if result.size == 1:\n",
    "        return result.item()\n",
    "    \n",
    "    return result"
   ]
  },
  {
   "cell_type": "code",
   "execution_count": 24,
   "id": "920c39c2",
   "metadata": {},
   "outputs": [
    {
     "data": {
      "text/plain": [
       "array([[ 17.,  23.,  29.],\n",
       "       [ 35.,  47.,  59.],\n",
       "       [ 64.,  85., 106.]])"
      ]
     },
     "execution_count": 24,
     "metadata": {},
     "output_type": "execute_result"
    }
   ],
   "source": [
    "a = [[3, 2, 1],\n",
    "     [4, 3, 5],\n",
    "     [6, 7, 8]]\n",
    "\n",
    "b = [[2, 3, 4],\n",
    "     [4, 5, 6],\n",
    "     [3, 4, 5]]\n",
    "\n",
    "mult(a, b)"
   ]
  },
  {
   "cell_type": "code",
   "execution_count": 25,
   "id": "ae3fa656",
   "metadata": {},
   "outputs": [
    {
     "data": {
      "text/plain": [
       "array([[ 17,  23,  29],\n",
       "       [ 35,  47,  59],\n",
       "       [ 64,  85, 106]])"
      ]
     },
     "execution_count": 25,
     "metadata": {},
     "output_type": "execute_result"
    }
   ],
   "source": [
    "np.array(a).dot(np.array(b))"
   ]
  },
  {
   "cell_type": "code",
   "execution_count": null,
   "id": "cb6ee8f6",
   "metadata": {},
   "outputs": [],
   "source": []
  }
 ],
 "metadata": {
  "kernelspec": {
   "display_name": "Python 3.8",
   "language": "python",
   "name": "python38"
  },
  "language_info": {
   "codemirror_mode": {
    "name": "ipython",
    "version": 3
   },
   "file_extension": ".py",
   "mimetype": "text/x-python",
   "name": "python",
   "nbconvert_exporter": "python",
   "pygments_lexer": "ipython3",
   "version": "3.8.8"
  }
 },
 "nbformat": 4,
 "nbformat_minor": 5
}
