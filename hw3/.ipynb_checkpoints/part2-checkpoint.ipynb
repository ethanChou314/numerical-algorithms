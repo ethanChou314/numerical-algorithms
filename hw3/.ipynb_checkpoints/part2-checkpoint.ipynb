{
 "cells": [
  {
   "cell_type": "code",
   "execution_count": 32,
   "id": "6c70dba7",
   "metadata": {},
   "outputs": [],
   "source": [
    "import numpy as np"
   ]
  },
  {
   "cell_type": "code",
   "execution_count": 39,
   "id": "ff1caf55",
   "metadata": {},
   "outputs": [],
   "source": [
    "def lu_decomposition(a):\n",
    "    \"\"\"\n",
    "    Iteratively performs LU decomposition (a = L*U)\n",
    "    L = lower triangular matrix\n",
    "    U = upper triangular matrix\n",
    "    \"\"\"\n",
    "    a = np.asarray(a, dtype=float)\n",
    "    \n",
    "    if a.ndim != 2:\n",
    "        raise ValueError(f\"matrix must be 2-dimensional. Got {a.ndim} dimensions\")\n",
    "    \n",
    "    if a.shape[0] != a.shape[1]:\n",
    "        raise ValueError(f\"dimension mismatch: \" + \\\n",
    "                         f\"got matrix with shape {a.shape}\")\n",
    "        \n",
    "    n = a.shape[0]  # number of dimensions\n",
    "    \n",
    "    lt_mtx = np.eye(n)  # initialize lower triangle matrix\n",
    "    ut_mtx = a.copy()  # initialize upper triangle matrix\n",
    "    \n",
    "    for i in range(n):\n",
    "        # construct L[i]:\n",
    "        L_i = np.eye(n)\n",
    "        if i + 1 < n:\n",
    "            L_i[i+1:, i] = -ut_mtx[i+1:, i]/ut_mtx[i, i]\n",
    "        \n",
    "        # carry over to next step\n",
    "        lt_mtx = lt_mtx @ np.linalg.inv(L_i)\n",
    "        ut_mtx = L_i @ ut_mtx\n",
    "        \n",
    "    return lt_mtx, ut_mtx"
   ]
  },
  {
   "cell_type": "code",
   "execution_count": 41,
   "id": "f04e88e1",
   "metadata": {},
   "outputs": [],
   "source": [
    "def back_substitution(U, y):\n",
    "    \"\"\"\n",
    "    solves the system U*x = y using back substitution\n",
    "    \"\"\"\n",
    "    n = U.shape[0]\n",
    "    x = np.empty_like(y)\n",
    "    for i in reversed(range(n)):  # i = n, n-1, n-2, ..., 0\n",
    "        x[i] = y[i]\n",
    "        for j in range(i+1, n):  # j = i, i+1, i+2, ..., n\n",
    "            x[i] -= U[i, j]*x[j]\n",
    "        x[i] /= U[i, i]\n",
    "    return x"
   ]
  },
  {
   "cell_type": "code",
   "execution_count": null,
   "id": "47a8b898",
   "metadata": {},
   "outputs": [],
   "source": [
    "def forward_substitution(L, b):\n",
    "    \"\"\"\n",
    "    solves the system L*y = b using back substitution\n",
    "    \"\"\"\n",
    "    n = U.shape[0]\n",
    "    y = np.empty_like(b)\n",
    "    for i in range(n):\n",
    "        y[i] = b[i]\n",
    "        for j in range(i):\n",
    "            y[i] -= U[i, j]*b[j]\n",
    "        y[i] /= U[i, i]\n",
    "    return y"
   ]
  },
  {
   "cell_type": "code",
   "execution_count": 42,
   "id": "c98177a4",
   "metadata": {},
   "outputs": [
    {
     "ename": "SyntaxError",
     "evalue": "invalid syntax (<ipython-input-42-213a0236ed22>, line 33)",
     "output_type": "error",
     "traceback": [
      "\u001b[0;36m  File \u001b[0;32m\"<ipython-input-42-213a0236ed22>\"\u001b[0;36m, line \u001b[0;32m33\u001b[0m\n\u001b[0;31m    for i in range()\u001b[0m\n\u001b[0m                    ^\u001b[0m\n\u001b[0;31mSyntaxError\u001b[0m\u001b[0;31m:\u001b[0m invalid syntax\n"
     ]
    }
   ],
   "source": [
    "def solve(a, b):\n",
    "    \"\"\"\n",
    "    solves the system a * x = b \n",
    "    using LU decomposition\n",
    "    \"\"\"\n",
    "    \n",
    "    a = np.asarray(a, dtype=float)\n",
    "    b = np.asarray(b, dtype=float)\n",
    "    \n",
    "    n = a.shape[0]\n",
    "    \n",
    "    # error checking:\n",
    "    if a.ndim != 2:\n",
    "        raise ValueError(f\"'a' must be 2-dimensional. Got {a.ndim} dimensions\")\n",
    "    \n",
    "    if a.shape[0] != a.shape[1]:\n",
    "        raise ValueError(f\"dimension mismatch: \" + \\\n",
    "                         f\"got matrix 'a' with shape {a.shape}\")\n",
    "        \n",
    "    if b.ndim != 1:\n",
    "        raise ValueError(f\"'b' must be 1-dimensional. Got {b.ndim} dimensions\")\n",
    "        \n",
    "    if b.shape[0] != n:\n",
    "        raise ValueError(f\"dimension mismatch: \" + \\\n",
    "                         f\"got matrix 'b' with shape {b.shape}. \" + \\\n",
    "                         f\"Expected {n} dimensions.\")\n",
    "    \n",
    "    # perform LU decomposition\n",
    "    L, U = lu_decomposition(a)\n",
    "    \n",
    "    # solve Ly = b (forward substitution):\n",
    "    y = forward_substitution(L, b)\n",
    "    \n",
    "    # solve Ux = y (back substitution):\n",
    "    x = back_substitution(U, y)"
   ]
  },
  {
   "cell_type": "code",
   "execution_count": 38,
   "id": "ca5d0114",
   "metadata": {
    "scrolled": true
   },
   "outputs": [
    {
     "data": {
      "text/plain": [
       "(array([[1.        , 0.        , 0.        ],\n",
       "        [0.44444444, 1.        , 0.        ],\n",
       "        [0.77777778, 2.07142857, 1.        ]]),\n",
       " array([[ 9.00000000e+00,  2.00000000e+00,  3.00000000e+00],\n",
       "        [ 0.00000000e+00,  3.11111111e+00,  4.66666667e+00],\n",
       "        [ 0.00000000e+00, -8.88178420e-16, -3.00000000e+00]]))"
      ]
     },
     "execution_count": 38,
     "metadata": {},
     "output_type": "execute_result"
    }
   ],
   "source": [
    "a = [[9, 2, 3],\n",
    "     [4, 4, 6],\n",
    "     [7, 8, 9]]\n",
    "l, u = lu_decomposition(a)\n",
    "l, u"
   ]
  },
  {
   "cell_type": "code",
   "execution_count": null,
   "id": "d0d4bb3e",
   "metadata": {},
   "outputs": [],
   "source": []
  }
 ],
 "metadata": {
  "kernelspec": {
   "display_name": "Python 3.8",
   "language": "python",
   "name": "python38"
  },
  "language_info": {
   "codemirror_mode": {
    "name": "ipython",
    "version": 3
   },
   "file_extension": ".py",
   "mimetype": "text/x-python",
   "name": "python",
   "nbconvert_exporter": "python",
   "pygments_lexer": "ipython3",
   "version": "3.8.8"
  }
 },
 "nbformat": 4,
 "nbformat_minor": 5
}
