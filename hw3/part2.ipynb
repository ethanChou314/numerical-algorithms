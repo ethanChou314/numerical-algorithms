{
 "cells": [
  {
   "cell_type": "code",
   "execution_count": 32,
   "id": "6c70dba7",
   "metadata": {},
   "outputs": [],
   "source": [
    "import numpy as np"
   ]
  },
  {
   "cell_type": "markdown",
   "id": "af13642d",
   "metadata": {},
   "source": [
    "# part (a)"
   ]
  },
  {
   "cell_type": "code",
   "execution_count": 39,
   "id": "ff1caf55",
   "metadata": {},
   "outputs": [],
   "source": [
    "def lu_decomposition(a):\n",
    "    \"\"\"\n",
    "    Iteratively performs LU decomposition (a = L*U)\n",
    "    L = lower triangular matrix\n",
    "    U = upper triangular matrix\n",
    "    \"\"\"\n",
    "    a = np.asarray(a, dtype=float)\n",
    "    \n",
    "    if a.ndim != 2:\n",
    "        raise ValueError(f\"matrix must be 2-dimensional. Got {a.ndim} dimensions\")\n",
    "    \n",
    "    if a.shape[0] != a.shape[1]:\n",
    "        raise ValueError(f\"dimension mismatch: \" + \\\n",
    "                         f\"got matrix with shape {a.shape}\")\n",
    "        \n",
    "    n = a.shape[0]  # number of dimensions\n",
    "    \n",
    "    lt_mtx = np.eye(n)  # initialize lower triangle matrix\n",
    "    ut_mtx = a.copy()  # initialize upper triangle matrix\n",
    "    \n",
    "    for i in range(n):\n",
    "        # construct L[i]:\n",
    "        L_i = np.eye(n)\n",
    "        if i + 1 < n:\n",
    "            L_i[i+1:, i] = -ut_mtx[i+1:, i]/ut_mtx[i, i]\n",
    "        \n",
    "        # carry over to next step\n",
    "        lt_mtx = lt_mtx @ np.linalg.inv(L_i)\n",
    "        ut_mtx = L_i @ ut_mtx\n",
    "        \n",
    "    return lt_mtx, ut_mtx"
   ]
  },
  {
   "cell_type": "code",
   "execution_count": 41,
   "id": "04563683",
   "metadata": {},
   "outputs": [],
   "source": [
    "def back_substitution(U, y):\n",
    "    \"\"\"\n",
    "    solves the system U*x = y using back substitution\n",
    "    \"\"\"\n",
    "    n = U.shape[0]\n",
    "    x = np.empty_like(y, dtype=float)\n",
    "    for i in reversed(range(n)):  # i = n, n-1, n-2, ..., 0\n",
    "        x[i] = y[i]\n",
    "        for j in range(i+1, n):  # j = i, i+1, i+2, ..., n\n",
    "            x[i] -= U[i, j]*x[j]\n",
    "        x[i] /= U[i, i]\n",
    "    return x"
   ]
  },
  {
   "cell_type": "code",
   "execution_count": 48,
   "id": "cd5c7e94",
   "metadata": {},
   "outputs": [],
   "source": [
    "def forward_substitution(L, b):\n",
    "    \"\"\"\n",
    "    solves the system L*y = b using forward substitution\n",
    "    \"\"\"\n",
    "    n = L.shape[0]\n",
    "    y = np.empty_like(b, dtype=float)\n",
    "    for i in range(n):\n",
    "        y[i] = b[i]\n",
    "        for j in range(i):\n",
    "            y[i] -= L[i, j]*y[j]\n",
    "        y[i] /= L[i, i]\n",
    "    return y"
   ]
  },
  {
   "cell_type": "code",
   "execution_count": 49,
   "id": "f87b3f9a",
   "metadata": {},
   "outputs": [],
   "source": [
    "def solve(a, b):\n",
    "    \"\"\"\n",
    "    solves the system a * x = b \n",
    "    using LU decomposition\n",
    "    \"\"\"\n",
    "    \n",
    "    a = np.asarray(a, dtype=float)\n",
    "    b = np.squeeze(np.asarray(b, dtype=float))\n",
    "    \n",
    "    n = a.shape[0]\n",
    "    \n",
    "    # error checking:\n",
    "    if a.ndim != 2:\n",
    "        raise ValueError(f\"'a' must be 2-dimensional. Got {a.ndim} dimensions\")\n",
    "    \n",
    "    if a.shape[0] != a.shape[1]:\n",
    "        raise ValueError(f\"dimension mismatch: \" + \\\n",
    "                         f\"got matrix 'a' with shape {a.shape}\")\n",
    "        \n",
    "    if b.ndim != 1:\n",
    "        raise ValueError(f\"'b' must be 1-dimensional. Got {b.ndim} dimensions\")\n",
    "        \n",
    "    if b.shape[0] != n:\n",
    "        raise ValueError(f\"dimension mismatch: \" + \\\n",
    "                         f\"got matrix 'b' with shape {b.shape}. \" + \\\n",
    "                         f\"Expected {n} dimensions.\")\n",
    "    \n",
    "    # perform LU decomposition\n",
    "    L, U = lu_decomposition(a)\n",
    "    \n",
    "    # solve Ly = b (forward substitution):\n",
    "    y = forward_substitution(L, b)\n",
    "    \n",
    "    # solve Ux = y (back substitution):\n",
    "    x = back_substitution(U, y)\n",
    "    \n",
    "    return x"
   ]
  },
  {
   "cell_type": "code",
   "execution_count": 66,
   "id": "ca5d0114",
   "metadata": {
    "scrolled": true
   },
   "outputs": [
    {
     "data": {
      "text/plain": [
       "(array([[ 1.,  0.,  0.],\n",
       "        [ 4.,  1.,  0.],\n",
       "        [ 7., -3.,  1.]]),\n",
       " array([[  1.,   2.,   3.],\n",
       "        [  0.,   2.,  -6.],\n",
       "        [  0.,   0., -30.]]))"
      ]
     },
     "execution_count": 66,
     "metadata": {},
     "output_type": "execute_result"
    }
   ],
   "source": [
    "a = [[1, 2, 3],\n",
    "     [4, 10, 6],\n",
    "     [7, 8, 9]]\n",
    "b = [5, 2, 2]\n",
    "l, u = lu_decomposition(a)\n",
    "l, u"
   ]
  },
  {
   "cell_type": "code",
   "execution_count": 67,
   "id": "418a293a",
   "metadata": {},
   "outputs": [
    {
     "data": {
      "text/plain": [
       "array([-3.1, -0.3,  2.9])"
      ]
     },
     "execution_count": 67,
     "metadata": {},
     "output_type": "execute_result"
    }
   ],
   "source": [
    "solve(a, b)"
   ]
  },
  {
   "cell_type": "code",
   "execution_count": 68,
   "id": "fc301fc7",
   "metadata": {},
   "outputs": [
    {
     "data": {
      "text/plain": [
       "array([-3.1, -0.3,  2.9])"
      ]
     },
     "execution_count": 68,
     "metadata": {},
     "output_type": "execute_result"
    }
   ],
   "source": [
    "np.linalg.solve(a, b)"
   ]
  },
  {
   "cell_type": "markdown",
   "id": "fe30bed5",
   "metadata": {},
   "source": [
    "# part (b)"
   ]
  },
  {
   "cell_type": "code",
   "execution_count": 69,
   "id": "209fde85",
   "metadata": {},
   "outputs": [],
   "source": [
    "a = [[2, 1, 4, 1],\n",
    "     [3, 4, -1, -1],\n",
    "     [1, -4, 1, 5],\n",
    "     [2, -2, 1, 3]]\n",
    "b = [-4, 3, 9, 7]"
   ]
  },
  {
   "cell_type": "code",
   "execution_count": 70,
   "id": "2c2bad03",
   "metadata": {},
   "outputs": [
    {
     "data": {
      "text/plain": [
       "array([ 2., -1., -2.,  1.])"
      ]
     },
     "execution_count": 70,
     "metadata": {},
     "output_type": "execute_result"
    }
   ],
   "source": [
    "solve(a, b)"
   ]
  },
  {
   "cell_type": "code",
   "execution_count": 71,
   "id": "6c769c89",
   "metadata": {},
   "outputs": [
    {
     "data": {
      "text/plain": [
       "array([ 2., -1., -2.,  1.])"
      ]
     },
     "execution_count": 71,
     "metadata": {},
     "output_type": "execute_result"
    }
   ],
   "source": [
    "np.linalg.solve(a, b)"
   ]
  },
  {
   "cell_type": "markdown",
   "id": "46a002a2",
   "metadata": {},
   "source": [
    "# part (c)"
   ]
  },
  {
   "cell_type": "code",
   "execution_count": null,
   "id": "8a05a4f0",
   "metadata": {},
   "outputs": [],
   "source": []
  }
 ],
 "metadata": {
  "kernelspec": {
   "display_name": "Python 3.8",
   "language": "python",
   "name": "python38"
  },
  "language_info": {
   "codemirror_mode": {
    "name": "ipython",
    "version": 3
   },
   "file_extension": ".py",
   "mimetype": "text/x-python",
   "name": "python",
   "nbconvert_exporter": "python",
   "pygments_lexer": "ipython3",
   "version": "3.8.8"
  }
 },
 "nbformat": 4,
 "nbformat_minor": 5
}
