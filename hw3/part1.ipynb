{
 "cells": [
  {
   "cell_type": "code",
   "execution_count": 18,
   "id": "32e2d13f",
   "metadata": {},
   "outputs": [],
   "source": [
    "import numpy as np"
   ]
  },
  {
   "cell_type": "code",
   "execution_count": 37,
   "id": "d1bd9cb9",
   "metadata": {},
   "outputs": [],
   "source": [
    "A = [[4, 3, 4, 10],\n",
    "     [2, -7, 3, 0],\n",
    "     [-2, 11, 1, 3],\n",
    "     [3, -4, 0, 2]]\n",
    "A = np.asarray(A, dtype=float)"
   ]
  },
  {
   "cell_type": "code",
   "execution_count": 38,
   "id": "2879c867",
   "metadata": {},
   "outputs": [],
   "source": [
    "def newton_inv(A, x0=None, alpha=0.001, tolerance=1e-9):\n",
    "    x0 = x0 or alpha * A.T\n",
    "    \n",
    "    guess = x0\n",
    "    \n",
    "    i = 0\n",
    "    while abs(np.linalg.det(guess.dot(A)) - 1) > tolerance:\n",
    "        guess = 2*guess - guess.dot(A).dot(guess)\n",
    "        i += 1\n",
    "        \n",
    "    print(f\"{i} iterations performed\")\n",
    "        \n",
    "    return guess"
   ]
  },
  {
   "cell_type": "code",
   "execution_count": 41,
   "id": "137ccdb8",
   "metadata": {},
   "outputs": [
    {
     "name": "stdout",
     "output_type": "stream",
     "text": [
      "17 iterations performed\n"
     ]
    },
    {
     "data": {
      "text/plain": [
       "array([[-0.59487179,  0.46153846,  0.99487179,  1.48205128],\n",
       "       [-0.22051282,  0.15384615,  0.42051282,  0.47179487],\n",
       "       [-0.11794872,  0.38461538,  0.31794872,  0.11282051],\n",
       "       [ 0.45128205, -0.38461538, -0.65128205, -0.77948718]])"
      ]
     },
     "execution_count": 41,
     "metadata": {},
     "output_type": "execute_result"
    }
   ],
   "source": [
    "newton_inv(A)"
   ]
  },
  {
   "cell_type": "code",
   "execution_count": 42,
   "id": "e41d1d72",
   "metadata": {},
   "outputs": [
    {
     "data": {
      "text/plain": [
       "array([[-0.59487179,  0.46153846,  0.99487179,  1.48205128],\n",
       "       [-0.22051282,  0.15384615,  0.42051282,  0.47179487],\n",
       "       [-0.11794872,  0.38461538,  0.31794872,  0.11282051],\n",
       "       [ 0.45128205, -0.38461538, -0.65128205, -0.77948718]])"
      ]
     },
     "execution_count": 42,
     "metadata": {},
     "output_type": "execute_result"
    }
   ],
   "source": [
    "# correct answer:\n",
    "np.linalg.inv(A)"
   ]
  },
  {
   "cell_type": "code",
   "execution_count": null,
   "id": "8f6870ca",
   "metadata": {},
   "outputs": [],
   "source": []
  }
 ],
 "metadata": {
  "kernelspec": {
   "display_name": "Python 3.8",
   "language": "python",
   "name": "python38"
  },
  "language_info": {
   "codemirror_mode": {
    "name": "ipython",
    "version": 3
   },
   "file_extension": ".py",
   "mimetype": "text/x-python",
   "name": "python",
   "nbconvert_exporter": "python",
   "pygments_lexer": "ipython3",
   "version": "3.8.8"
  }
 },
 "nbformat": 4,
 "nbformat_minor": 5
}
