{
 "cells": [
  {
   "cell_type": "code",
   "execution_count": 87,
   "id": "99a97f32",
   "metadata": {},
   "outputs": [],
   "source": [
    "import numpy as np"
   ]
  },
  {
   "cell_type": "markdown",
   "id": "03748673",
   "metadata": {},
   "source": [
    "# Root Finding Methods"
   ]
  },
  {
   "cell_type": "code",
   "execution_count": 88,
   "id": "d18e6e21",
   "metadata": {},
   "outputs": [],
   "source": [
    "def bisection(f, x_l, x_u, tolerance=1e-10, max_iter=int(1e4)):\n",
    "    # function at initial guesses must have different signs\n",
    "    f_l = f(x_l)\n",
    "    f_u = f(x_u)\n",
    "    \n",
    "    if f_l * f_u > 0:\n",
    "        raise Exception(\"f(x_l) and f(x_u) must \" + \\\n",
    "                        \"have different signs: \" + \\\n",
    "                        f\"f({x_l}) = {f_l}; \" + \\\n",
    "                        f\"f({x_u}) = {f_u} \")\n",
    "    \n",
    "    # estimate root using midpoint:\n",
    "    x_r = (x_l + x_u) / 2  \n",
    "    \n",
    "    i = 0\n",
    "    while abs(f(x_r)) > tolerance:\n",
    "        if f(x_l)*f(x_r) < 0:\n",
    "            x_u = x_r\n",
    "        elif f(x_l)*f(x_r) > 0:\n",
    "            x_l = x_r\n",
    "        x_r = (x_l + x_u) / 2\n",
    "        \n",
    "        if i >= max_iter:\n",
    "            print(\"Max iter reached\")\n",
    "            break\n",
    "        \n",
    "        i += 1\n",
    "        \n",
    "    print(f\"Iterations performed: {i}\")\n",
    "        \n",
    "    return x_r"
   ]
  },
  {
   "cell_type": "code",
   "execution_count": 89,
   "id": "5a128b8d",
   "metadata": {},
   "outputs": [],
   "source": [
    "def f_prime(f, x, delta_x=1e-10):\n",
    "    return (f(x+delta_x)-f(x))/delta_x\n",
    "\n",
    "def newton_raphson(f, x0, tolerance=1e-10, \n",
    "                   max_iter=int(1e4), delta_x=1e-10):\n",
    "    i = 0\n",
    "    guess = x0\n",
    "    while abs(f(guess)) > tolerance:\n",
    "        # compute derivative:\n",
    "        derivative = f_prime(f, guess, delta_x)\n",
    "        \n",
    "        # conditions to break loop:\n",
    "        if i >= max_iter:\n",
    "            print(\"Max iter reached\")\n",
    "            break\n",
    "        elif derivative == 0:\n",
    "            print(\"Zero derivative reached\")\n",
    "            break\n",
    "        \n",
    "        # update guess:\n",
    "        guess = guess - f(guess)/derivative\n",
    "        \n",
    "        i += 1\n",
    "        \n",
    "    print(f\"Iterations performed: {i}\")\n",
    "        \n",
    "    return guess"
   ]
  },
  {
   "cell_type": "code",
   "execution_count": 90,
   "id": "a78e5ca0",
   "metadata": {},
   "outputs": [],
   "source": [
    "def get_new_guess(f, prev_guess, this_guess):\n",
    "    return this_guess - f(this_guess) * \\\n",
    "            (prev_guess-this_guess)/(f(prev_guess)-f(this_guess))\n",
    "    \n",
    "\n",
    "def secant(f, x0, x1, tolerance=1e-10, max_iter=int(1e4)):\n",
    "    prev_guess = get_new_guess(f, x0, x1)\n",
    "    this_guess = get_new_guess(f, x1, prev_guess)\n",
    "    \n",
    "    i = 0\n",
    "    while abs(f(this_guess)) > tolerance:\n",
    "        try:\n",
    "            new_guess = get_new_guess(f, prev_guess, this_guess)\n",
    "        except ZeroDivisionError:\n",
    "            print(\"Zero derivative reached\")\n",
    "            break\n",
    "        \n",
    "        # update values for next iteration:\n",
    "        prev_guess = this_guess\n",
    "        this_guess = new_guess\n",
    "        \n",
    "        if i >= max_iter:\n",
    "            print(\"Max iteration reached\")\n",
    "            break\n",
    "            \n",
    "        i += 1\n",
    "        \n",
    "    print(f\"Iterations performed: {i}\")\n",
    "        \n",
    "    return this_guess"
   ]
  },
  {
   "cell_type": "code",
   "execution_count": 91,
   "id": "7dde023d",
   "metadata": {},
   "outputs": [],
   "source": [
    "def my_func(x):\n",
    "    return np.sin(x-x**2)/x"
   ]
  },
  {
   "cell_type": "code",
   "execution_count": 92,
   "id": "c0119c4b",
   "metadata": {},
   "outputs": [
    {
     "name": "stdout",
     "output_type": "stream",
     "text": [
      "Iterations performed: 3\n"
     ]
    },
    {
     "data": {
      "text/plain": [
       "2.3416277184578513"
      ]
     },
     "execution_count": 92,
     "metadata": {},
     "output_type": "execute_result"
    }
   ],
   "source": [
    "newton_raphson(my_func, 2.5)"
   ]
  },
  {
   "cell_type": "code",
   "execution_count": 94,
   "id": "6c7b8363",
   "metadata": {},
   "outputs": [
    {
     "name": "stdout",
     "output_type": "stream",
     "text": [
      "Iterations performed: 28\n"
     ]
    },
    {
     "data": {
      "text/plain": [
       "2.341627718508244"
      ]
     },
     "execution_count": 94,
     "metadata": {},
     "output_type": "execute_result"
    }
   ],
   "source": [
    "bisection(my_func, 2.2, 3)"
   ]
  },
  {
   "cell_type": "code",
   "execution_count": 95,
   "id": "17e65d39",
   "metadata": {},
   "outputs": [
    {
     "name": "stdout",
     "output_type": "stream",
     "text": [
      "Iterations performed: 4\n"
     ]
    },
    {
     "data": {
      "text/plain": [
       "3.056009645360884"
      ]
     },
     "execution_count": 95,
     "metadata": {},
     "output_type": "execute_result"
    }
   ],
   "source": [
    "secant(my_func, 2.2, 3)"
   ]
  },
  {
   "cell_type": "code",
   "execution_count": null,
   "id": "b2168fc0",
   "metadata": {},
   "outputs": [],
   "source": []
  }
 ],
 "metadata": {
  "kernelspec": {
   "display_name": "Python 3.8",
   "language": "python",
   "name": "python38"
  },
  "language_info": {
   "codemirror_mode": {
    "name": "ipython",
    "version": 3
   },
   "file_extension": ".py",
   "mimetype": "text/x-python",
   "name": "python",
   "nbconvert_exporter": "python",
   "pygments_lexer": "ipython3",
   "version": "3.8.8"
  }
 },
 "nbformat": 4,
 "nbformat_minor": 5
}
